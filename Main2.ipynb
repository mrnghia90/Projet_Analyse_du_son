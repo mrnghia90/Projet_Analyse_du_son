{
 "cells": [
  {
   "cell_type": "code",
   "execution_count": 1,
   "id": "7c5ee9ee",
   "metadata": {},
   "outputs": [],
   "source": [
    "%reset -f"
   ]
  },
  {
   "cell_type": "code",
   "execution_count": 2,
   "id": "67650d00",
   "metadata": {},
   "outputs": [],
   "source": [
    "import utils_preprocessing"
   ]
  },
  {
   "cell_type": "code",
   "execution_count": 3,
   "id": "e9f9fd27",
   "metadata": {},
   "outputs": [
    {
     "name": "stderr",
     "output_type": "stream",
     "text": [
      "2023-11-23 01:40:16.578138: I tensorflow/core/platform/cpu_feature_guard.cc:193] This TensorFlow binary is optimized with oneAPI Deep Neural Network Library (oneDNN) to use the following CPU instructions in performance-critical operations:  AVX2 FMA\n",
      "To enable them in other operations, rebuild TensorFlow with the appropriate compiler flags.\n"
     ]
    }
   ],
   "source": [
    "import pandas as pd\n",
    "import matplotlib.pyplot as plt\n",
    "import numpy as np\n",
    "import seaborn as sns\n",
    "\n",
    "#Librairies for file openings\n",
    "import os\n",
    "import pickle\n",
    "import glob\n",
    "\n",
    "# Audio Librairies\n",
    "import librosa\n",
    "import librosa.display\n",
    "import IPython.display as idp\n",
    "\n",
    "#Librairies for better plotting\n",
    "from itertools import cycle\n",
    "sns.set_theme(style=\"white\", palette=None)\n",
    "#color palette\n",
    "color_pal = plt.rcParams[\"axes.prop_cycle\"].by_key()[\"color\"]\n",
    "color_cycle = cycle(plt.rcParams[\"axes.prop_cycle\"].by_key()[\"color\"])\n",
    "\n",
    "#tensorflow librairy\n",
    "from tensorflow.keras import Model\n",
    "from tensorflow.keras import layers\n",
    "from tensorflow.keras import backend as K\n",
    "import tensorflow.keras as tf"
   ]
  },
  {
   "cell_type": "code",
   "execution_count": 4,
   "id": "85afab1b",
   "metadata": {},
   "outputs": [],
   "source": [
    "def load_fsdd(spectrograms_path):\n",
    "    x_train=[]\n",
    "    for root,_,file_names in os.walk(spectrograms_path):\n",
    "        for file_name in file_names:\n",
    "            file_path = os.path.join(root,file_name)\n",
    "            spectrogram= np.load(file_path) #(n_bins, n_frames)\n",
    "            x_train.append(spectrogram)\n",
    "    x_train= np.array(x_train)\n",
    "    x_train=x_train[...,np.newaxis]\n",
    "    return x_train"
   ]
  },
  {
   "cell_type": "code",
   "execution_count": 5,
   "id": "be10f19d",
   "metadata": {},
   "outputs": [],
   "source": [
    "#files path:\n",
    "files_path='data_saved2/spectrogram'\n",
    "\n",
    "#loading data\n",
    "x_train= load_fsdd(files_path)"
   ]
  },
  {
   "cell_type": "code",
   "execution_count": 6,
   "id": "069aca3a",
   "metadata": {},
   "outputs": [
    {
     "data": {
      "text/plain": [
       "(30000, 256, 64, 1)"
      ]
     },
     "execution_count": 6,
     "metadata": {},
     "output_type": "execute_result"
    }
   ],
   "source": [
    "x_train.shape"
   ]
  },
  {
   "cell_type": "code",
   "execution_count": 7,
   "id": "e75a0ab9",
   "metadata": {},
   "outputs": [],
   "source": [
    "def get_Conv_Encoder(input_shape, latent_space_dim):\n",
    "    encoder_input = layers.Input(shape=(input_shape), name=\"encoder_input\")\n",
    "    \n",
    "    x = layers.Conv2D(32, (3,3), activation='relu',padding='same',name='Conv2D_1')(encoder_input)\n",
    "    x = layers.BatchNormalization(name='BN_1')(x)\n",
    "    x = layers.MaxPooling2D((2, 2), padding='same',name=\"MaxPool1\")(x)\n",
    "    x = layers.Conv2D(64, (3,3), activation='relu',padding='same',name='Conv2D_2')(x)\n",
    "    x = layers.BatchNormalization(name='BN_2')(x)\n",
    "    x = layers.MaxPooling2D((2, 2), padding='same',name=\"MaxPool2\")(x)\n",
    "    x = layers.Conv2D(128, (3,3), activation='relu',padding='same',name='Conv2D_3')(x)\n",
    "    x = layers.BatchNormalization(name='BN_3')(x)\n",
    "    x = layers.MaxPooling2D((2, 2), padding='same',name=\"MaxPool3\")(x)\n",
    "    x = layers.Conv2D(256, (3,3), activation='relu',padding='same',name='Conv2D_4')(x)\n",
    "    x = layers.BatchNormalization(name='BN_4')(x)\n",
    "    x = layers.MaxPooling2D((2, 2), padding='same',name=\"MaxPool4\")(x)\n",
    "    x = layers.Conv2D(512, (3,3), activation='relu',padding='same',name='Conv2D_5')(x)\n",
    "    x = layers.BatchNormalization(name='BN_5')(x)\n",
    "    x = layers.MaxPooling2D((2, 2), padding='same',name=\"MaxPool5\")(x)\n",
    "\n",
    "    \n",
    "    shape_before_bottleneck= K.int_shape(x)[1:]\n",
    "    x= layers.Flatten()(x)\n",
    "    bottleneck= layers.Dense(latent_space_dim, name='bottleneck')(x)\n",
    "    encoder = Model(encoder_input, bottleneck, name=\"encoder\")\n",
    "    \n",
    "    return encoder, shape_before_bottleneck"
   ]
  },
  {
   "cell_type": "code",
   "execution_count": 8,
   "id": "26743450",
   "metadata": {},
   "outputs": [],
   "source": [
    "def get_Conv_Decoder(latent_space_dim, shape_before_bottleneck):\n",
    "    decoder_input = layers.Input(shape=(latent_space_dim), name=\"decoder_input\")\n",
    "    \n",
    "    num_neurons = np.prod(shape_before_bottleneck)\n",
    "    dense_layer = layers.Dense(num_neurons, name=\"decoder_dense\")(decoder_input)\n",
    "    x = layers.Reshape(shape_before_bottleneck)(dense_layer)\n",
    "\n",
    "    x = layers.Conv2DTranspose(512, (3,3), activation='relu',strides=2,padding='same',name='Conv2DTrans_2')(x)\n",
    "    x = layers.BatchNormalization(name='BN_6')(x)\n",
    "    x = layers.Conv2DTranspose(256, (3,3), activation='relu',strides=2,padding='same',name='Conv2DTrans_3')(x)\n",
    "    x = layers.BatchNormalization(name='BN_7')(x)\n",
    "    x = layers.Conv2DTranspose(128, (3,3), activation='relu',strides=2,padding='same',name='Conv2DTrans_4')(x)\n",
    "    x = layers.BatchNormalization(name='BN_8')(x)\n",
    "    x = layers.Conv2DTranspose(64, (3,3), activation='relu',strides=2,padding='same',name='Conv2DTrans_5')(x)\n",
    "    x = layers.BatchNormalization(name='BN_9')(x)\n",
    "    x = layers.Conv2DTranspose(32, (3,3), activation='relu',strides=2,padding='same',name='Conv2DTrans_6')(x)\n",
    "    x = layers.BatchNormalization(name='BN_10')(x)\n",
    "    decoded = layers.Conv2DTranspose(1, (3,3), activation='sigmoid',padding='same',name='Conv2DTrans_7')(x)\n",
    "    \n",
    "    decoder = Model(decoder_input,decoded,name=\"decoder\")\n",
    "    return decoder"
   ]
  },
  {
   "cell_type": "code",
   "execution_count": 10,
   "id": "678202b4",
   "metadata": {},
   "outputs": [
    {
     "name": "stderr",
     "output_type": "stream",
     "text": [
      "2023-11-23 01:41:48.960112: I tensorflow/core/platform/cpu_feature_guard.cc:193] This TensorFlow binary is optimized with oneAPI Deep Neural Network Library (oneDNN) to use the following CPU instructions in performance-critical operations:  AVX2 FMA\n",
      "To enable them in other operations, rebuild TensorFlow with the appropriate compiler flags.\n"
     ]
    }
   ],
   "source": [
    "encoder_input=(256,64,1)\n",
    "latent_space_dim=100\n",
    "encoder,shape_before_bottleneck= get_Conv_Encoder(encoder_input,latent_space_dim)\n",
    "decoder=get_Conv_Decoder(latent_space_dim,shape_before_bottleneck)"
   ]
  },
  {
   "cell_type": "code",
   "execution_count": 11,
   "id": "b8a0cb03",
   "metadata": {},
   "outputs": [
    {
     "name": "stdout",
     "output_type": "stream",
     "text": [
      "Model: \"encoder\"\n",
      "_________________________________________________________________\n",
      " Layer (type)                Output Shape              Param #   \n",
      "=================================================================\n",
      " encoder_input (InputLayer)  [(None, 256, 64, 1)]      0         \n",
      "                                                                 \n",
      " Conv2D_1 (Conv2D)           (None, 256, 64, 32)       320       \n",
      "                                                                 \n",
      " BN_1 (BatchNormalization)   (None, 256, 64, 32)       128       \n",
      "                                                                 \n",
      " MaxPool1 (MaxPooling2D)     (None, 128, 32, 32)       0         \n",
      "                                                                 \n",
      " Conv2D_2 (Conv2D)           (None, 128, 32, 64)       18496     \n",
      "                                                                 \n",
      " BN_2 (BatchNormalization)   (None, 128, 32, 64)       256       \n",
      "                                                                 \n",
      " MaxPool2 (MaxPooling2D)     (None, 64, 16, 64)        0         \n",
      "                                                                 \n",
      " Conv2D_3 (Conv2D)           (None, 64, 16, 128)       73856     \n",
      "                                                                 \n",
      " BN_3 (BatchNormalization)   (None, 64, 16, 128)       512       \n",
      "                                                                 \n",
      " MaxPool3 (MaxPooling2D)     (None, 32, 8, 128)        0         \n",
      "                                                                 \n",
      " Conv2D_4 (Conv2D)           (None, 32, 8, 256)        295168    \n",
      "                                                                 \n",
      " BN_4 (BatchNormalization)   (None, 32, 8, 256)        1024      \n",
      "                                                                 \n",
      " MaxPool4 (MaxPooling2D)     (None, 16, 4, 256)        0         \n",
      "                                                                 \n",
      " Conv2D_5 (Conv2D)           (None, 16, 4, 512)        1180160   \n",
      "                                                                 \n",
      " BN_5 (BatchNormalization)   (None, 16, 4, 512)        2048      \n",
      "                                                                 \n",
      " MaxPool5 (MaxPooling2D)     (None, 8, 2, 512)         0         \n",
      "                                                                 \n",
      " flatten (Flatten)           (None, 8192)              0         \n",
      "                                                                 \n",
      " bottleneck (Dense)          (None, 100)               819300    \n",
      "                                                                 \n",
      "=================================================================\n",
      "Total params: 2,391,268\n",
      "Trainable params: 2,389,284\n",
      "Non-trainable params: 1,984\n",
      "_________________________________________________________________\n",
      "None\n"
     ]
    }
   ],
   "source": [
    "print(encoder.summary())"
   ]
  },
  {
   "cell_type": "code",
   "execution_count": 12,
   "id": "ff78c6b6",
   "metadata": {},
   "outputs": [
    {
     "name": "stdout",
     "output_type": "stream",
     "text": [
      "Model: \"decoder\"\n",
      "_________________________________________________________________\n",
      " Layer (type)                Output Shape              Param #   \n",
      "=================================================================\n",
      " decoder_input (InputLayer)  [(None, 100)]             0         \n",
      "                                                                 \n",
      " decoder_dense (Dense)       (None, 8192)              827392    \n",
      "                                                                 \n",
      " reshape (Reshape)           (None, 8, 2, 512)         0         \n",
      "                                                                 \n",
      " Conv2DTrans_2 (Conv2DTransp  (None, 16, 4, 512)       2359808   \n",
      " ose)                                                            \n",
      "                                                                 \n",
      " BN_6 (BatchNormalization)   (None, 16, 4, 512)        2048      \n",
      "                                                                 \n",
      " Conv2DTrans_3 (Conv2DTransp  (None, 32, 8, 256)       1179904   \n",
      " ose)                                                            \n",
      "                                                                 \n",
      " BN_7 (BatchNormalization)   (None, 32, 8, 256)        1024      \n",
      "                                                                 \n",
      " Conv2DTrans_4 (Conv2DTransp  (None, 64, 16, 128)      295040    \n",
      " ose)                                                            \n",
      "                                                                 \n",
      " BN_8 (BatchNormalization)   (None, 64, 16, 128)       512       \n",
      "                                                                 \n",
      " Conv2DTrans_5 (Conv2DTransp  (None, 128, 32, 64)      73792     \n",
      " ose)                                                            \n",
      "                                                                 \n",
      " BN_9 (BatchNormalization)   (None, 128, 32, 64)       256       \n",
      "                                                                 \n",
      " Conv2DTrans_6 (Conv2DTransp  (None, 256, 64, 32)      18464     \n",
      " ose)                                                            \n",
      "                                                                 \n",
      " BN_10 (BatchNormalization)  (None, 256, 64, 32)       128       \n",
      "                                                                 \n",
      " Conv2DTrans_7 (Conv2DTransp  (None, 256, 64, 1)       289       \n",
      " ose)                                                            \n",
      "                                                                 \n",
      "=================================================================\n",
      "Total params: 4,758,657\n",
      "Trainable params: 4,756,673\n",
      "Non-trainable params: 1,984\n",
      "_________________________________________________________________\n",
      "None\n"
     ]
    }
   ],
   "source": [
    "print(decoder.summary())"
   ]
  },
  {
   "cell_type": "code",
   "execution_count": 13,
   "id": "7dbd70d8",
   "metadata": {},
   "outputs": [
    {
     "data": {
      "image/png": "[encoded data removed]",
      "text/plain": [
       "<Figure size 640x480 with 2 Axes>"
      ]
     },
     "metadata": {},
     "output_type": "display_data"
    }
   ],
   "source": [
    "plt.imshow(encoder(x_train[0:1]),cmap='gray')\n",
    "plt.colorbar()\n",
    "plt.axis('off')\n",
    "plt.show()"
   ]
  },
  {
   "cell_type": "code",
   "execution_count": 14,
   "id": "94ff8246",
   "metadata": {},
   "outputs": [],
   "source": [
    "def get_autoencoder(encoder,decoder):\n",
    "    autoencoder_input= layers.Input(shape=encoder.input_shape[1:])\n",
    "    encoded=encoder(autoencoder_input)\n",
    "    decoded=decoder(encoded)\n",
    "    autoencoder= Model(autoencoder_input,decoded,name=\"autoencoder\")\n",
    "    return autoencoder"
   ]
  },
  {
   "cell_type": "code",
   "execution_count": 15,
   "id": "f0c61841",
   "metadata": {},
   "outputs": [],
   "source": [
    "autoencoder=get_autoencoder(encoder,decoder)"
   ]
  },
  {
   "cell_type": "code",
   "execution_count": 16,
   "id": "52ca58b8",
   "metadata": {},
   "outputs": [
    {
     "name": "stdout",
     "output_type": "stream",
     "text": [
      "Model: \"autoencoder\"\n",
      "_________________________________________________________________\n",
      " Layer (type)                Output Shape              Param #   \n",
      "=================================================================\n",
      " input_1 (InputLayer)        [(None, 256, 64, 1)]      0         \n",
      "                                                                 \n",
      " encoder (Functional)        (None, 100)               2391268   \n",
      "                                                                 \n",
      " decoder (Functional)        (None, 256, 64, 1)        4758657   \n",
      "                                                                 \n",
      "=================================================================\n",
      "Total params: 7,149,925\n",
      "Trainable params: 7,145,957\n",
      "Non-trainable params: 3,968\n",
      "_________________________________________________________________\n",
      "None\n"
     ]
    }
   ],
   "source": [
    "print(autoencoder.summary())"
   ]
  },
  {
   "cell_type": "code",
   "execution_count": 19,
   "id": "759ff885",
   "metadata": {},
   "outputs": [],
   "source": [
    "autoencoder.compile(optimizer='adam',loss='mse')"
   ]
  },
  {
   "cell_type": "code",
   "execution_count": 18,
   "id": "5372bb01",
   "metadata": {},
   "outputs": [
    {
     "name": "stdout",
     "output_type": "stream",
     "text": [
      "Epoch 1/10\n",
      "59/59 [==============================] - 26378s 454s/step - loss: 0.0391 - accuracy: 0.1824\n",
      "Epoch 2/10\n",
      "59/59 [==============================] - 9642s 72s/step - loss: 0.0129 - accuracy: 0.1888\n",
      "Epoch 3/10\n",
      "41/59 [===================>..........] - ETA: 15:37 - loss: 0.0098 - accuracy: 0.1880"
     ]
    },
    {
     "name": "stderr",
     "output_type": "stream",
     "text": [
      "\n",
      "KeyboardInterrupt\n",
      "\n"
     ]
    }
   ],
   "source": [
    "hist = autoencoder.fit(x_train, x_train,batch_size=512, epochs=10,shuffle=True)"
   ]
  },
  {
   "cell_type": "code",
   "execution_count": null,
   "id": "74b8ffe0",
   "metadata": {},
   "outputs": [],
   "source": [
    "plt.plot(hist.history['loss'])\n",
    "plt.title('model loss')\n",
    "plt.ylabel('loss')\n",
    "plt.xlabel('epoch')\n",
    "plt.legend('train', loc='upper left')\n",
    "plt.show()"
   ]
  }
 ],
 "metadata": {
  "kernelspec": {
   "display_name": "Python 3 (ipykernel)",
   "language": "python",
   "name": "python3"
  },
  "language_info": {
   "codemirror_mode": {
    "name": "ipython",
    "version": 3
   },
   "file_extension": ".py",
   "mimetype": "text/x-python",
   "name": "python",
   "nbconvert_exporter": "python",
   "pygments_lexer": "ipython3",
   "version": "3.9.7"
  }
 },
 "nbformat": 4,
 "nbformat_minor": 5
}
